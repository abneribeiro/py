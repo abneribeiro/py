{
 "cells": [
  {
   "cell_type": "code",
   "execution_count": null,
   "metadata": {},
   "outputs": [],
   "source": [
    "import pandas as pd\n",
    "import numpy as np\n",
    "import matplotlib.pyplot as plt"
   ]
  },
  {
   "cell_type": "code",
   "execution_count": 2,
   "metadata": {},
   "outputs": [],
   "source": [
    "df = pd.read_csv(\"most_subscribed_youtube_channels.csv\")"
   ]
  },
  {
   "cell_type": "code",
   "execution_count": 3,
   "metadata": {},
   "outputs": [
    {
     "data": {
      "text/html": [
       "<div>\n",
       "<style scoped>\n",
       "    .dataframe tbody tr th:only-of-type {\n",
       "        vertical-align: middle;\n",
       "    }\n",
       "\n",
       "    .dataframe tbody tr th {\n",
       "        vertical-align: top;\n",
       "    }\n",
       "\n",
       "    .dataframe thead th {\n",
       "        text-align: right;\n",
       "    }\n",
       "</style>\n",
       "<table border=\"1\" class=\"dataframe\">\n",
       "  <thead>\n",
       "    <tr style=\"text-align: right;\">\n",
       "      <th></th>\n",
       "      <th>rank</th>\n",
       "      <th>Youtuber</th>\n",
       "      <th>subscribers</th>\n",
       "      <th>video views</th>\n",
       "      <th>video count</th>\n",
       "      <th>category</th>\n",
       "      <th>started</th>\n",
       "    </tr>\n",
       "  </thead>\n",
       "  <tbody>\n",
       "    <tr>\n",
       "      <th>0</th>\n",
       "      <td>864</td>\n",
       "      <td>WiederDude</td>\n",
       "      <td>11,800,000</td>\n",
       "      <td>2,190,306,341</td>\n",
       "      <td>259</td>\n",
       "      <td>NaN</td>\n",
       "      <td>2016</td>\n",
       "    </tr>\n",
       "    <tr>\n",
       "      <th>1</th>\n",
       "      <td>905</td>\n",
       "      <td>Garena Free Fire LATAM</td>\n",
       "      <td>11,500,000</td>\n",
       "      <td>1,587,661,793</td>\n",
       "      <td>1,425</td>\n",
       "      <td>People &amp; Blogs</td>\n",
       "      <td>2018</td>\n",
       "    </tr>\n",
       "    <tr>\n",
       "      <th>2</th>\n",
       "      <td>313</td>\n",
       "      <td>Pentatonix</td>\n",
       "      <td>19,700,000</td>\n",
       "      <td>5,694,327,707</td>\n",
       "      <td>235</td>\n",
       "      <td>Music</td>\n",
       "      <td>2011</td>\n",
       "    </tr>\n",
       "    <tr>\n",
       "      <th>3</th>\n",
       "      <td>973</td>\n",
       "      <td>bharatzkitchen HINDI</td>\n",
       "      <td>11,100,000</td>\n",
       "      <td>1,903,304,025</td>\n",
       "      <td>626</td>\n",
       "      <td>Howto &amp; Style</td>\n",
       "      <td>2016</td>\n",
       "    </tr>\n",
       "    <tr>\n",
       "      <th>4</th>\n",
       "      <td>897</td>\n",
       "      <td>YoungBoy Never Broke Again</td>\n",
       "      <td>11,500,000</td>\n",
       "      <td>11,015,842,469</td>\n",
       "      <td>475</td>\n",
       "      <td>Entertainment</td>\n",
       "      <td>2015</td>\n",
       "    </tr>\n",
       "    <tr>\n",
       "      <th>5</th>\n",
       "      <td>303</td>\n",
       "      <td>Ultra Movie Parlour</td>\n",
       "      <td>20,000,000</td>\n",
       "      <td>4,930,920,530</td>\n",
       "      <td>1,302</td>\n",
       "      <td>Movies</td>\n",
       "      <td>2011</td>\n",
       "    </tr>\n",
       "  </tbody>\n",
       "</table>\n",
       "</div>"
      ],
      "text/plain": [
       "   rank                    Youtuber subscribers     video views video count  \\\n",
       "0   864                  WiederDude  11,800,000   2,190,306,341         259   \n",
       "1   905      Garena Free Fire LATAM  11,500,000   1,587,661,793       1,425   \n",
       "2   313                  Pentatonix  19,700,000   5,694,327,707         235   \n",
       "3   973        bharatzkitchen HINDI  11,100,000   1,903,304,025         626   \n",
       "4   897  YoungBoy Never Broke Again  11,500,000  11,015,842,469         475   \n",
       "5   303         Ultra Movie Parlour  20,000,000   4,930,920,530       1,302   \n",
       "\n",
       "         category  started  \n",
       "0             NaN     2016  \n",
       "1  People & Blogs     2018  \n",
       "2           Music     2011  \n",
       "3   Howto & Style     2016  \n",
       "4   Entertainment     2015  \n",
       "5          Movies     2011  "
      ]
     },
     "execution_count": 3,
     "metadata": {},
     "output_type": "execute_result"
    }
   ],
   "source": [
    "df.sample(6).reset_index(drop=True)"
   ]
  },
  {
   "cell_type": "code",
   "execution_count": 4,
   "metadata": {},
   "outputs": [
    {
     "data": {
      "text/plain": [
       "(973, 7)"
      ]
     },
     "execution_count": 4,
     "metadata": {},
     "output_type": "execute_result"
    }
   ],
   "source": [
    "df.dropna(axis=0, inplace=True)\n",
    "df.shape"
   ]
  },
  {
   "cell_type": "code",
   "execution_count": 5,
   "metadata": {},
   "outputs": [
    {
     "data": {
      "text/plain": [
       "Index(['rank', 'Youtuber', 'subscribers', 'video views', 'video count',\n",
       "       'category', 'started'],\n",
       "      dtype='object')"
      ]
     },
     "execution_count": 5,
     "metadata": {},
     "output_type": "execute_result"
    }
   ],
   "source": [
    "df.columns"
   ]
  },
  {
   "cell_type": "code",
   "execution_count": 6,
   "metadata": {},
   "outputs": [
    {
     "data": {
      "text/html": [
       "<div>\n",
       "<style scoped>\n",
       "    .dataframe tbody tr th:only-of-type {\n",
       "        vertical-align: middle;\n",
       "    }\n",
       "\n",
       "    .dataframe tbody tr th {\n",
       "        vertical-align: top;\n",
       "    }\n",
       "\n",
       "    .dataframe thead th {\n",
       "        text-align: right;\n",
       "    }\n",
       "</style>\n",
       "<table border=\"1\" class=\"dataframe\">\n",
       "  <thead>\n",
       "    <tr style=\"text-align: right;\">\n",
       "      <th></th>\n",
       "      <th>rank</th>\n",
       "      <th>Youtuber</th>\n",
       "      <th>subscribers</th>\n",
       "      <th>video views</th>\n",
       "      <th>video count</th>\n",
       "      <th>category</th>\n",
       "      <th>started</th>\n",
       "    </tr>\n",
       "  </thead>\n",
       "  <tbody>\n",
       "    <tr>\n",
       "      <th>0</th>\n",
       "      <td>1</td>\n",
       "      <td>T-Series</td>\n",
       "      <td>222,000,000</td>\n",
       "      <td>198,459,090,822</td>\n",
       "      <td>17,317</td>\n",
       "      <td>Music</td>\n",
       "      <td>2006</td>\n",
       "    </tr>\n",
       "    <tr>\n",
       "      <th>1</th>\n",
       "      <td>2</td>\n",
       "      <td>YouTube Movies</td>\n",
       "      <td>154,000,000</td>\n",
       "      <td>0</td>\n",
       "      <td>0</td>\n",
       "      <td>Film &amp; Animation</td>\n",
       "      <td>2015</td>\n",
       "    </tr>\n",
       "    <tr>\n",
       "      <th>2</th>\n",
       "      <td>3</td>\n",
       "      <td>Cocomelon - Nursery Rhymes</td>\n",
       "      <td>140,000,000</td>\n",
       "      <td>135,481,339,848</td>\n",
       "      <td>786</td>\n",
       "      <td>Education</td>\n",
       "      <td>2006</td>\n",
       "    </tr>\n",
       "    <tr>\n",
       "      <th>3</th>\n",
       "      <td>4</td>\n",
       "      <td>SET India</td>\n",
       "      <td>139,000,000</td>\n",
       "      <td>125,764,252,686</td>\n",
       "      <td>91,271</td>\n",
       "      <td>Shows</td>\n",
       "      <td>2006</td>\n",
       "    </tr>\n",
       "    <tr>\n",
       "      <th>5</th>\n",
       "      <td>6</td>\n",
       "      <td>PewDiePie</td>\n",
       "      <td>111,000,000</td>\n",
       "      <td>28,469,458,228</td>\n",
       "      <td>4,497</td>\n",
       "      <td>Gaming</td>\n",
       "      <td>2010</td>\n",
       "    </tr>\n",
       "  </tbody>\n",
       "</table>\n",
       "</div>"
      ],
      "text/plain": [
       "   rank                    Youtuber  subscribers      video views video count  \\\n",
       "0     1                    T-Series  222,000,000  198,459,090,822      17,317   \n",
       "1     2              YouTube Movies  154,000,000                0           0   \n",
       "2     3  Cocomelon - Nursery Rhymes  140,000,000  135,481,339,848         786   \n",
       "3     4                   SET India  139,000,000  125,764,252,686      91,271   \n",
       "5     6                   PewDiePie  111,000,000   28,469,458,228       4,497   \n",
       "\n",
       "           category  started  \n",
       "0             Music     2006  \n",
       "1  Film & Animation     2015  \n",
       "2         Education     2006  \n",
       "3             Shows     2006  \n",
       "5            Gaming     2010  "
      ]
     },
     "execution_count": 6,
     "metadata": {},
     "output_type": "execute_result"
    }
   ],
   "source": [
    "df.rename(columns=lambda x: x.strip() , inplace = True)\n",
    "df[:5]"
   ]
  },
  {
   "cell_type": "code",
   "execution_count": 7,
   "metadata": {},
   "outputs": [],
   "source": [
    "df['video views']=df['video views'].str.replace(',','')\n",
    "df['video count']=df['video count'].str.replace(',','')\n",
    "df['subscribers']=df['subscribers'].str.replace(',','')\n",
    "df['video views']=df['video views'].astype('int64')\n",
    "df['video count']=df['video count'].astype('int64')\n",
    "df['subscribers']=df['subscribers'].astype('int64')"
   ]
  },
  {
   "cell_type": "code",
   "execution_count": 8,
   "metadata": {},
   "outputs": [
    {
     "data": {
      "text/plain": [
       "rank           973\n",
       "Youtuber       972\n",
       "subscribers    282\n",
       "video views    972\n",
       "video count    845\n",
       "category        18\n",
       "started         18\n",
       "dtype: int64"
      ]
     },
     "execution_count": 8,
     "metadata": {},
     "output_type": "execute_result"
    }
   ],
   "source": [
    "df.nunique()"
   ]
  },
  {
   "cell_type": "code",
   "execution_count": 14,
   "metadata": {},
   "outputs": [
    {
     "data": {
      "text/html": [
       "<div>\n",
       "<style scoped>\n",
       "    .dataframe tbody tr th:only-of-type {\n",
       "        vertical-align: middle;\n",
       "    }\n",
       "\n",
       "    .dataframe tbody tr th {\n",
       "        vertical-align: top;\n",
       "    }\n",
       "\n",
       "    .dataframe thead th {\n",
       "        text-align: right;\n",
       "    }\n",
       "</style>\n",
       "<table border=\"1\" class=\"dataframe\">\n",
       "  <thead>\n",
       "    <tr style=\"text-align: right;\">\n",
       "      <th></th>\n",
       "      <th>rank</th>\n",
       "      <th>Youtuber</th>\n",
       "      <th>video views</th>\n",
       "      <th>video count</th>\n",
       "      <th>category</th>\n",
       "      <th>started</th>\n",
       "    </tr>\n",
       "    <tr>\n",
       "      <th>subscribers</th>\n",
       "      <th></th>\n",
       "      <th></th>\n",
       "      <th></th>\n",
       "      <th></th>\n",
       "      <th></th>\n",
       "      <th></th>\n",
       "    </tr>\n",
       "  </thead>\n",
       "  <tbody>\n",
       "    <tr>\n",
       "      <th>41300000</th>\n",
       "      <td>59</td>\n",
       "      <td>Get Movies</td>\n",
       "      <td>28559341412</td>\n",
       "      <td>3963</td>\n",
       "      <td>Entertainment</td>\n",
       "      <td>2006</td>\n",
       "    </tr>\n",
       "    <tr>\n",
       "      <th>41500000</th>\n",
       "      <td>58</td>\n",
       "      <td>Like Nastya Show</td>\n",
       "      <td>18745015002</td>\n",
       "      <td>599</td>\n",
       "      <td>Entertainment</td>\n",
       "      <td>2017</td>\n",
       "    </tr>\n",
       "    <tr>\n",
       "      <th>43300000</th>\n",
       "      <td>52</td>\n",
       "      <td>Você Sabia?</td>\n",
       "      <td>7284075395</td>\n",
       "      <td>1315</td>\n",
       "      <td>Entertainment</td>\n",
       "      <td>2013</td>\n",
       "    </tr>\n",
       "    <tr>\n",
       "      <th>43300000</th>\n",
       "      <td>53</td>\n",
       "      <td>HolaSoyGerman.</td>\n",
       "      <td>4735959546</td>\n",
       "      <td>136</td>\n",
       "      <td>Entertainment</td>\n",
       "      <td>2011</td>\n",
       "    </tr>\n",
       "    <tr>\n",
       "      <th>44300000</th>\n",
       "      <td>49</td>\n",
       "      <td>Felipe Neto</td>\n",
       "      <td>15475571879</td>\n",
       "      <td>3512</td>\n",
       "      <td>Entertainment</td>\n",
       "      <td>2006</td>\n",
       "    </tr>\n",
       "    <tr>\n",
       "      <th>45600000</th>\n",
       "      <td>47</td>\n",
       "      <td>Badabun</td>\n",
       "      <td>18567925780</td>\n",
       "      <td>13814</td>\n",
       "      <td>Entertainment</td>\n",
       "      <td>2014</td>\n",
       "    </tr>\n",
       "    <tr>\n",
       "      <th>55700000</th>\n",
       "      <td>29</td>\n",
       "      <td>Marshmello</td>\n",
       "      <td>13445424556</td>\n",
       "      <td>401</td>\n",
       "      <td>Entertainment</td>\n",
       "      <td>2015</td>\n",
       "    </tr>\n",
       "    <tr>\n",
       "      <th>63000000</th>\n",
       "      <td>23</td>\n",
       "      <td>Zee TV</td>\n",
       "      <td>17111576122</td>\n",
       "      <td>60802</td>\n",
       "      <td>Entertainment</td>\n",
       "      <td>2005</td>\n",
       "    </tr>\n",
       "    <tr>\n",
       "      <th>85100000</th>\n",
       "      <td>13</td>\n",
       "      <td>Vlad and Niki</td>\n",
       "      <td>66498762660</td>\n",
       "      <td>472</td>\n",
       "      <td>Entertainment</td>\n",
       "      <td>2018</td>\n",
       "    </tr>\n",
       "    <tr>\n",
       "      <th>102000000</th>\n",
       "      <td>7</td>\n",
       "      <td>MrBeast</td>\n",
       "      <td>16832456681</td>\n",
       "      <td>726</td>\n",
       "      <td>Entertainment</td>\n",
       "      <td>2012</td>\n",
       "    </tr>\n",
       "  </tbody>\n",
       "</table>\n",
       "</div>"
      ],
      "text/plain": [
       "             rank          Youtuber  video views  video count       category  \\\n",
       "subscribers                                                                    \n",
       "41300000       59        Get Movies  28559341412         3963  Entertainment   \n",
       "41500000       58  Like Nastya Show  18745015002          599  Entertainment   \n",
       "43300000       52       Você Sabia?   7284075395         1315  Entertainment   \n",
       "43300000       53    HolaSoyGerman.   4735959546          136  Entertainment   \n",
       "44300000       49       Felipe Neto  15475571879         3512  Entertainment   \n",
       "45600000       47           Badabun  18567925780        13814  Entertainment   \n",
       "55700000       29        Marshmello  13445424556          401  Entertainment   \n",
       "63000000       23            Zee TV  17111576122        60802  Entertainment   \n",
       "85100000       13     Vlad and Niki  66498762660          472  Entertainment   \n",
       "102000000       7           MrBeast  16832456681          726  Entertainment   \n",
       "\n",
       "             started  \n",
       "subscribers           \n",
       "41300000        2006  \n",
       "41500000        2017  \n",
       "43300000        2013  \n",
       "43300000        2011  \n",
       "44300000        2006  \n",
       "45600000        2014  \n",
       "55700000        2015  \n",
       "63000000        2005  \n",
       "85100000        2018  \n",
       "102000000       2012  "
      ]
     },
     "execution_count": 14,
     "metadata": {},
     "output_type": "execute_result"
    }
   ],
   "source": [
    "df_Entertainment = df[df['category'] == 'Entertainment']\n",
    "df_Entertainment= df_Entertainment.sort_values('subscribers',ascending=False)\n",
    "\n",
    "subs_enter = df_Entertainment.iloc[:10].sort_values('subscribers',ascending=True)\n",
    "subs_enter.set_index('subscribers')"
   ]
  },
  {
   "cell_type": "code",
   "execution_count": 15,
   "metadata": {},
   "outputs": [
    {
     "data": {
      "image/png": "[encoded data removed]",
      "text/plain": [
       "<Figure size 2000x1200 with 1 Axes>"
      ]
     },
     "metadata": {},
     "output_type": "display_data"
    }
   ],
   "source": [
    "x = subs_enter['Youtuber']\n",
    "y = subs_enter['subscribers']\n",
    "plt.figure(figsize=(20, 12))\n",
    "plt.barh(x, y, height=0.8,  color=\"#d51616\")\n",
    "plt.title(\"Top 10 YouTubers, entertainment category\")\n",
    "plt.xlabel('Subscribers')\n",
    "plt.ylabel('Youtuber')\n",
    "plt.xticks(rotation = 45)\n",
    "plt.show()\n"
   ]
  },
  {
   "cell_type": "code",
   "execution_count": 16,
   "metadata": {},
   "outputs": [
    {
     "name": "stderr",
     "output_type": "stream",
     "text": [
      "C:\\Users\\Abneribeiro\\AppData\\Local\\Temp\\ipykernel_2080\\2274191625.py:1: DeprecationWarning: `import pandas_profiling` is going to be deprecated by April 1st. Please use `import ydata_profiling` instead.\n",
      "  from pandas_profiling import ProfileReport\n"
     ]
    }
   ],
   "source": [
    "from pandas_profiling import ProfileReport"
   ]
  },
  {
   "cell_type": "code",
   "execution_count": 17,
   "metadata": {},
   "outputs": [],
   "source": [
    "profile = ProfileReport(df_Entertainment, title =\"Pandas Profile Report\")"
   ]
  },
  {
   "cell_type": "code",
   "execution_count": 18,
   "metadata": {},
   "outputs": [
    {
     "data": {
      "application/vnd.jupyter.widget-view+json": {
       "model_id": "d85429eb429c4ddeaadb76272c60cd2f",
       "version_major": 2,
       "version_minor": 0
      },
      "text/plain": [
       "Summarize dataset:   0%|          | 0/5 [00:00<?, ?it/s]"
      ]
     },
     "metadata": {},
     "output_type": "display_data"
    },
    {
     "name": "stderr",
     "output_type": "stream",
     "text": [
      "\n",
      "KeyboardInterrupt\n",
      "\n"
     ]
    },
    {
     "data": {
      "image/png": "[encoded data removed]",
      "text/plain": [
       "<Figure size 800x550 with 1 Axes>"
      ]
     },
     "metadata": {},
     "output_type": "display_data"
    },
    {
     "ename": "",
     "evalue": "",
     "output_type": "error",
     "traceback": [
      "\u001b[1;31mFalha ao interromper o Kernel. \n",
      "\u001b[1;31mNão é possível iniciar o Kernel \"Python 3.10.6 64-bit\" devido ao tempo limite da conexão. \n",
      "Consulte o <a href='command:jupyter.viewOutput'>log</a> do Jupyter para obter mais detalhes."
     ]
    }
   ],
   "source": [
    "profile"
   ]
  }
 ],
 "metadata": {
  "kernelspec": {
   "display_name": "Python 3.10.6 64-bit",
   "language": "python",
   "name": "python3"
  },
  "language_info": {
   "codemirror_mode": {
    "name": "ipython",
    "version": 3
   },
   "file_extension": ".py",
   "mimetype": "text/x-python",
   "name": "python",
   "nbconvert_exporter": "python",
   "pygments_lexer": "ipython3",
   "version": "3.10.6"
  },
  "orig_nbformat": 4,
  "vscode": {
   "interpreter": {
    "hash": "9c33eba0ec6f09d08a382a7ddd3df03335c253725525690bb912675427b11291"
   }
  }
 },
 "nbformat": 4,
 "nbformat_minor": 2
}
