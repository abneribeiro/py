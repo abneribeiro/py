{
 "cells": [
  {
   "cell_type": "markdown",
   "id": "b1c3f46d-111a-4149-9fde-485c105e9cf4",
   "metadata": {
    "tags": []
   },
   "source": [
    "# Curso Ciêncie De Dados\n",
    "## Machine Learning Blding Models"
   ]
  },
  {
   "cell_type": "code",
   "execution_count": 1,
   "id": "eadc2e42-79a9-42ac-881a-c44d0a26c96c",
   "metadata": {},
   "outputs": [],
   "source": [
    "import pandas as pd"
   ]
  },
  {
   "cell_type": "code",
   "execution_count": 2,
   "id": "6131a959",
   "metadata": {},
   "outputs": [],
   "source": [
    "base = pd.read_csv('titanic_train.csv')"
   ]
  },
  {
   "cell_type": "code",
   "execution_count": 3,
   "id": "eefeed5b",
   "metadata": {},
   "outputs": [
    {
     "name": "stdout",
     "output_type": "stream",
     "text": [
      "<class 'pandas.core.frame.DataFrame'>\n",
      "RangeIndex: 891 entries, 0 to 890\n",
      "Data columns (total 12 columns):\n",
      " #   Column       Non-Null Count  Dtype  \n",
      "---  ------       --------------  -----  \n",
      " 0   PassengerId  891 non-null    int64  \n",
      " 1   Survived     891 non-null    int64  \n",
      " 2   Pclass       891 non-null    int64  \n",
      " 3   Name         891 non-null    object \n",
      " 4   Sex          891 non-null    object \n",
      " 5   Age          714 non-null    float64\n",
      " 6   SibSp        891 non-null    int64  \n",
      " 7   Parch        891 non-null    int64  \n",
      " 8   Ticket       891 non-null    object \n",
      " 9   Fare         891 non-null    float64\n",
      " 10  Cabin        204 non-null    object \n",
      " 11  Embarked     889 non-null    object \n",
      "dtypes: float64(2), int64(5), object(5)\n",
      "memory usage: 83.7+ KB\n"
     ]
    }
   ],
   "source": [
    "base.info()"
   ]
  },
  {
   "cell_type": "code",
   "execution_count": 57,
   "id": "90b66334",
   "metadata": {},
   "outputs": [],
   "source": [
    "# eliminar a coluna cabin por ter muitos valores vazios\n",
    "\n",
    "base = base.drop('Cabin', axis = 1)"
   ]
  },
  {
   "cell_type": "code",
   "execution_count": 58,
   "id": "8e428593",
   "metadata": {},
   "outputs": [],
   "source": [
    "base = base.dropna()"
   ]
  },
  {
   "cell_type": "code",
   "execution_count": 59,
   "id": "b463db85",
   "metadata": {},
   "outputs": [
    {
     "name": "stdout",
     "output_type": "stream",
     "text": [
      "<class 'pandas.core.frame.DataFrame'>\n",
      "Int64Index: 712 entries, 0 to 890\n",
      "Data columns (total 11 columns):\n",
      " #   Column       Non-Null Count  Dtype  \n",
      "---  ------       --------------  -----  \n",
      " 0   PassengerId  712 non-null    int64  \n",
      " 1   Survived     712 non-null    int64  \n",
      " 2   Pclass       712 non-null    int64  \n",
      " 3   Name         712 non-null    object \n",
      " 4   Sex          712 non-null    object \n",
      " 5   Age          712 non-null    float64\n",
      " 6   SibSp        712 non-null    int64  \n",
      " 7   Parch        712 non-null    int64  \n",
      " 8   Ticket       712 non-null    object \n",
      " 9   Fare         712 non-null    float64\n",
      " 10  Embarked     712 non-null    object \n",
      "dtypes: float64(2), int64(5), object(4)\n",
      "memory usage: 66.8+ KB\n"
     ]
    }
   ],
   "source": [
    "base.info()"
   ]
  },
  {
   "cell_type": "code",
   "execution_count": 60,
   "id": "49bf9835",
   "metadata": {},
   "outputs": [],
   "source": [
    "colunas = base.dtypes[base.dtypes.values == 'object'].index"
   ]
  },
  {
   "cell_type": "code",
   "execution_count": 61,
   "id": "28fbe57d",
   "metadata": {},
   "outputs": [],
   "source": [
    "base = base.drop(colunas, axis=1)"
   ]
  },
  {
   "cell_type": "code",
   "execution_count": 62,
   "id": "23e4e126",
   "metadata": {},
   "outputs": [
    {
     "name": "stdout",
     "output_type": "stream",
     "text": [
      "<class 'pandas.core.frame.DataFrame'>\n",
      "Int64Index: 712 entries, 0 to 890\n",
      "Data columns (total 7 columns):\n",
      " #   Column       Non-Null Count  Dtype  \n",
      "---  ------       --------------  -----  \n",
      " 0   PassengerId  712 non-null    int64  \n",
      " 1   Survived     712 non-null    int64  \n",
      " 2   Pclass       712 non-null    int64  \n",
      " 3   Age          712 non-null    float64\n",
      " 4   SibSp        712 non-null    int64  \n",
      " 5   Parch        712 non-null    int64  \n",
      " 6   Fare         712 non-null    float64\n",
      "dtypes: float64(2), int64(5)\n",
      "memory usage: 44.5 KB\n"
     ]
    }
   ],
   "source": [
    "base.info()"
   ]
  },
  {
   "cell_type": "markdown",
   "id": "194b724c-8d37-4cd1-99e5-bbdd075eeebf",
   "metadata": {
    "tags": []
   },
   "source": [
    "### Criando modelos de teste\n",
    "_Machine Learning_"
   ]
  },
  {
   "cell_type": "markdown",
   "id": "26ce01d3-d31d-47e0-875e-552c45a6b70e",
   "metadata": {
    "tags": []
   },
   "source": [
    "x = base.drop('Survived', axis=1)\n",
    "y = base.Survived"
   ]
  },
  {
   "cell_type": "code",
   "execution_count": 63,
   "id": "741710d0",
   "metadata": {
    "tags": []
   },
   "outputs": [],
   "source": [
    "#Modelo KNN\n",
    "from sklearn.neighbors import KNeighborsClassifier\n"
   ]
  },
  {
   "cell_type": "code",
   "execution_count": 64,
   "id": "eae50b61",
   "metadata": {},
   "outputs": [
    {
     "data": {
      "text/plain": [
       "KNeighborsClassifier(n_neighbors=3)"
      ]
     },
     "execution_count": 64,
     "metadata": {},
     "output_type": "execute_result"
    }
   ],
   "source": [
    "neigh = KNeighborsClassifier(n_neighbors=3)\n",
    "neigh.fit(x, y)"
   ]
  },
  {
   "cell_type": "code",
   "execution_count": 65,
   "id": "3ce159d2",
   "metadata": {},
   "outputs": [
    {
     "name": "stderr",
     "output_type": "stream",
     "text": [
      "C:\\Users\\AbneRibeiro\\anaconda3\\lib\\site-packages\\sklearn\\neighbors\\_classification.py:228: FutureWarning: Unlike other reduction functions (e.g. `skew`, `kurtosis`), the default behavior of `mode` typically preserves the axis it acts along. In SciPy 1.11.0, this behavior will change: the default value of `keepdims` will become False, the `axis` over which the statistic is taken will be eliminated, and the value None will no longer be accepted. Set `keepdims` to True or False to avoid this warning.\n",
      "  mode, _ = stats.mode(_y[neigh_ind, k], axis=1)\n"
     ]
    },
    {
     "data": {
      "text/plain": [
       "0.7907303370786517"
      ]
     },
     "execution_count": 65,
     "metadata": {},
     "output_type": "execute_result"
    }
   ],
   "source": [
    "neigh.score(x, y)"
   ]
  },
  {
   "cell_type": "code",
   "execution_count": 66,
   "id": "6a4350dd",
   "metadata": {},
   "outputs": [],
   "source": [
    "# Modelo arvore de decisão \n",
    "from sklearn import tree"
   ]
  },
  {
   "cell_type": "code",
   "execution_count": 67,
   "id": "804dc1d2",
   "metadata": {},
   "outputs": [],
   "source": [
    "clfArvore = tree.DecisionTreeClassifier(random_state=0)"
   ]
  },
  {
   "cell_type": "code",
   "execution_count": 68,
   "id": "7a227f70",
   "metadata": {},
   "outputs": [],
   "source": [
    "clfArvore = clfArvore.fit(x, y)"
   ]
  },
  {
   "cell_type": "code",
   "execution_count": 69,
   "id": "00bb3285",
   "metadata": {},
   "outputs": [
    {
     "data": {
      "text/plain": [
       "1.0"
      ]
     },
     "execution_count": 69,
     "metadata": {},
     "output_type": "execute_result"
    }
   ],
   "source": [
    "clfArvore.score(x, y)"
   ]
  },
  {
   "cell_type": "markdown",
   "id": "2cc015de-3df6-414e-b6b6-ed6925d54a7d",
   "metadata": {},
   "source": [
    "### Utilizando a Regressão Logística"
   ]
  },
  {
   "cell_type": "code",
   "execution_count": 70,
   "id": "bf5e2e0c-78ad-454f-8936-879bcb4e6497",
   "metadata": {},
   "outputs": [],
   "source": [
    "#Importando a regressão Logística\n",
    "from sklearn.linear_model import LogisticRegression"
   ]
  },
  {
   "cell_type": "code",
   "execution_count": 71,
   "id": "2883e6ab-f175-4834-ac6a-b091eb8d3b94",
   "metadata": {},
   "outputs": [],
   "source": [
    "#Criando o nosso classificador e fazendo o fit com os dados\n",
    "clfLog = LogisticRegression(random_state=0, max_iter = 1000).fit(x,y)"
   ]
  },
  {
   "cell_type": "code",
   "execution_count": 72,
   "id": "2830bb83-a533-4b85-a29a-75f41126cc5d",
   "metadata": {},
   "outputs": [
    {
     "data": {
      "text/plain": [
       "0.7064606741573034"
      ]
     },
     "execution_count": 72,
     "metadata": {},
     "output_type": "execute_result"
    }
   ],
   "source": [
    "# Avaliando o modelo\n",
    "clfLog.score(x,y)"
   ]
  },
  {
   "cell_type": "markdown",
   "id": "0e20f6c1-ffed-44cd-a481-c8228811c62e",
   "metadata": {},
   "source": [
    "### Avaliando modelos de classificação\n",
    "* Base `titanic_train(test).csv`"
   ]
  },
  {
   "cell_type": "code",
   "execution_count": 73,
   "id": "cfbf0d6c-741e-4dff-98cb-11f7d8ae1843",
   "metadata": {},
   "outputs": [],
   "source": [
    "teste = pd.read_csv('titanic_train.csv')"
   ]
  },
  {
   "cell_type": "code",
   "execution_count": 74,
   "id": "b8877fa0-d840-4ef4-9917-c344186b60ec",
   "metadata": {},
   "outputs": [],
   "source": [
    "teste = teste.drop('Cabin', axis = 1)\n",
    "teste = teste.dropna()\n",
    "teste = teste.drop(colunas, axis=1)"
   ]
  },
  {
   "cell_type": "code",
   "execution_count": 75,
   "id": "d15e47f6-a224-49e8-bfe3-7126fde134af",
   "metadata": {},
   "outputs": [
    {
     "name": "stdout",
     "output_type": "stream",
     "text": [
      "<class 'pandas.core.frame.DataFrame'>\n",
      "Int64Index: 712 entries, 0 to 890\n",
      "Data columns (total 7 columns):\n",
      " #   Column       Non-Null Count  Dtype  \n",
      "---  ------       --------------  -----  \n",
      " 0   PassengerId  712 non-null    int64  \n",
      " 1   Survived     712 non-null    int64  \n",
      " 2   Pclass       712 non-null    int64  \n",
      " 3   Age          712 non-null    float64\n",
      " 4   SibSp        712 non-null    int64  \n",
      " 5   Parch        712 non-null    int64  \n",
      " 6   Fare         712 non-null    float64\n",
      "dtypes: float64(2), int64(5)\n",
      "memory usage: 44.5 KB\n"
     ]
    }
   ],
   "source": [
    "teste.info()"
   ]
  },
  {
   "cell_type": "code",
   "execution_count": 76,
   "id": "7bbea6bb-99a9-446e-ac1b-58c7a4d62100",
   "metadata": {},
   "outputs": [],
   "source": [
    "# Separando x e y da base\n",
    "\n",
    "x_teste = teste.drop('Survived', axis=1)\n",
    "y_teste = teste.Survived"
   ]
  },
  {
   "cell_type": "code",
   "execution_count": 77,
   "id": "b5d064f4-0d4a-4aee-bd37-a200e1ecc68d",
   "metadata": {},
   "outputs": [
    {
     "name": "stderr",
     "output_type": "stream",
     "text": [
      "C:\\Users\\AbneRibeiro\\anaconda3\\lib\\site-packages\\sklearn\\neighbors\\_classification.py:228: FutureWarning: Unlike other reduction functions (e.g. `skew`, `kurtosis`), the default behavior of `mode` typically preserves the axis it acts along. In SciPy 1.11.0, this behavior will change: the default value of `keepdims` will become False, the `axis` over which the statistic is taken will be eliminated, and the value None will no longer be accepted. Set `keepdims` to True or False to avoid this warning.\n",
      "  mode, _ = stats.mode(_y[neigh_ind, k], axis=1)\n"
     ]
    }
   ],
   "source": [
    "# Fazendo a predição com o KNN\n",
    "\n",
    "pred_KNN = neigh.predict(x_teste)"
   ]
  },
  {
   "cell_type": "code",
   "execution_count": 78,
   "id": "353000b5-2b8c-453d-8953-9e0f44107297",
   "metadata": {},
   "outputs": [],
   "source": [
    "# Fazendo a predição com a Árvore de Decisão\n",
    "pred_Arvore = clfArvore.predict(x_teste)"
   ]
  },
  {
   "cell_type": "code",
   "execution_count": 79,
   "id": "2b307e06-2744-4ce7-89c0-0d60e7c32ece",
   "metadata": {},
   "outputs": [],
   "source": [
    "# Fazendo a predição com Regressão Logística\n",
    "pred_Log = clfLog.predict(x_teste)"
   ]
  },
  {
   "cell_type": "code",
   "execution_count": 80,
   "id": "b086fca9-b399-42c2-b7f2-bb1a37a97b0b",
   "metadata": {},
   "outputs": [],
   "source": [
    "# importando a matriz confusão\n",
    "from sklearn.metrics import confusion_matrix"
   ]
  },
  {
   "cell_type": "code",
   "execution_count": 81,
   "id": "996b7c7c-2857-4178-ba48-3889575b39f5",
   "metadata": {},
   "outputs": [
    {
     "data": {
      "text/plain": [
       "array([[377,  47],\n",
       "       [102, 186]], dtype=int64)"
      ]
     },
     "execution_count": 81,
     "metadata": {},
     "output_type": "execute_result"
    }
   ],
   "source": [
    "# verifanco a matriz para KNN\n",
    "confusion_matrix(y_teste, pred_KNN)"
   ]
  },
  {
   "cell_type": "code",
   "execution_count": 82,
   "id": "183513bc-33e6-4c6a-8dc4-856363adb113",
   "metadata": {},
   "outputs": [
    {
     "data": {
      "text/plain": [
       "array([[424,   0],\n",
       "       [  0, 288]], dtype=int64)"
      ]
     },
     "execution_count": 82,
     "metadata": {},
     "output_type": "execute_result"
    }
   ],
   "source": [
    "# verifanco a matriz para Arvore de Decisão\n",
    "confusion_matrix(y_teste, pred_Arvore)"
   ]
  },
  {
   "cell_type": "code",
   "execution_count": 83,
   "id": "368026f8-f099-41fb-8a42-9c39a2f8a84d",
   "metadata": {},
   "outputs": [
    {
     "data": {
      "text/plain": [
       "array([[355,  69],\n",
       "       [140, 148]], dtype=int64)"
      ]
     },
     "execution_count": 83,
     "metadata": {},
     "output_type": "execute_result"
    }
   ],
   "source": [
    "# verifanco a matriz para a Regressão Logística\n",
    "confusion_matrix(y_teste, pred_Log)"
   ]
  },
  {
   "cell_type": "code",
   "execution_count": 84,
   "id": "595a7466-1671-481d-a431-2a5634abda1a",
   "metadata": {},
   "outputs": [],
   "source": [
    "# Importando a métrica de acurácia\n",
    "from sklearn.metrics import accuracy_score"
   ]
  },
  {
   "cell_type": "code",
   "execution_count": 85,
   "id": "f9b9c31a-5d6c-4657-b3c3-30e9ed64399e",
   "metadata": {},
   "outputs": [
    {
     "data": {
      "text/plain": [
       "0.7907303370786517"
      ]
     },
     "execution_count": 85,
     "metadata": {},
     "output_type": "execute_result"
    }
   ],
   "source": [
    "accuracy_score(y_teste, pred_KNN)"
   ]
  },
  {
   "cell_type": "code",
   "execution_count": 86,
   "id": "4395398d-f454-4557-918e-9bfb4164836a",
   "metadata": {},
   "outputs": [
    {
     "data": {
      "text/plain": [
       "1.0"
      ]
     },
     "execution_count": 86,
     "metadata": {},
     "output_type": "execute_result"
    }
   ],
   "source": [
    "accuracy_score(y_teste, pred_Arvore)"
   ]
  },
  {
   "cell_type": "code",
   "execution_count": 87,
   "id": "833a37fa-f30e-41ee-a6d6-a2f7abba3891",
   "metadata": {},
   "outputs": [
    {
     "data": {
      "text/plain": [
       "0.7064606741573034"
      ]
     },
     "execution_count": 87,
     "metadata": {},
     "output_type": "execute_result"
    }
   ],
   "source": [
    "accuracy_score(y_teste, pred_Log)"
   ]
  },
  {
   "cell_type": "markdown",
   "id": "a9d553c8-d9e8-4730-a51a-e6518ff84ea2",
   "metadata": {},
   "source": [
    "### Precisão"
   ]
  },
  {
   "cell_type": "code",
   "execution_count": 88,
   "id": "829248df-d023-48d3-8ae6-7c8ca7c4b0ad",
   "metadata": {},
   "outputs": [],
   "source": [
    "from sklearn.metrics import precision_score"
   ]
  },
  {
   "cell_type": "code",
   "execution_count": 89,
   "id": "9326d6e5-7464-420c-8e6c-e4a0e0a189d3",
   "metadata": {},
   "outputs": [
    {
     "data": {
      "text/plain": [
       "0.7982832618025751"
      ]
     },
     "execution_count": 89,
     "metadata": {},
     "output_type": "execute_result"
    }
   ],
   "source": [
    "precision_score(y_teste, pred_KNN)"
   ]
  },
  {
   "cell_type": "code",
   "execution_count": 90,
   "id": "e7191975-0025-46a6-8c0c-96c671fe138f",
   "metadata": {},
   "outputs": [
    {
     "data": {
      "text/plain": [
       "1.0"
      ]
     },
     "execution_count": 90,
     "metadata": {},
     "output_type": "execute_result"
    }
   ],
   "source": [
    "precision_score(y_teste,pred_Arvore )"
   ]
  },
  {
   "cell_type": "code",
   "execution_count": 91,
   "id": "41bc273c-3a14-40b9-94cc-64f1d8a3036e",
   "metadata": {},
   "outputs": [
    {
     "data": {
      "text/plain": [
       "0.6820276497695853"
      ]
     },
     "execution_count": 91,
     "metadata": {},
     "output_type": "execute_result"
    }
   ],
   "source": [
    "precision_score(y_teste, pred_Log )"
   ]
  },
  {
   "cell_type": "markdown",
   "id": "cd3805b3-7152-4d62-ad2d-c142e86ff550",
   "metadata": {},
   "source": [
    "### Recall"
   ]
  },
  {
   "cell_type": "code",
   "execution_count": 92,
   "id": "77dc6db6-7e26-47c4-a9f8-0dad802dc8f6",
   "metadata": {},
   "outputs": [],
   "source": [
    "from sklearn.metrics import recall_score"
   ]
  },
  {
   "cell_type": "code",
   "execution_count": 93,
   "id": "7c41dfb6-903a-4545-8463-13c9254ff47d",
   "metadata": {},
   "outputs": [
    {
     "data": {
      "text/plain": [
       "0.6458333333333334"
      ]
     },
     "execution_count": 93,
     "metadata": {},
     "output_type": "execute_result"
    }
   ],
   "source": [
    "recall_score(y_teste, pred_KNN )"
   ]
  },
  {
   "cell_type": "code",
   "execution_count": 94,
   "id": "891a6ab0-05e2-4e75-97b1-59bdf62f3194",
   "metadata": {},
   "outputs": [
    {
     "data": {
      "text/plain": [
       "1.0"
      ]
     },
     "execution_count": 94,
     "metadata": {},
     "output_type": "execute_result"
    }
   ],
   "source": [
    "recall_score(y_teste, pred_Arvore)"
   ]
  },
  {
   "cell_type": "code",
   "execution_count": 95,
   "id": "10d1e683-0520-40ad-8168-1d9bc65579c8",
   "metadata": {},
   "outputs": [
    {
     "data": {
      "text/plain": [
       "0.5138888888888888"
      ]
     },
     "execution_count": 95,
     "metadata": {},
     "output_type": "execute_result"
    }
   ],
   "source": [
    "recall_score(y_teste, pred_Log )"
   ]
  },
  {
   "cell_type": "code",
   "execution_count": null,
   "id": "318f1b15-4c3f-40c4-8036-d7c1cfea8545",
   "metadata": {},
   "outputs": [],
   "source": []
  }
 ],
 "metadata": {
  "kernelspec": {
   "display_name": "Python 3.11.1 64-bit",
   "language": "python",
   "name": "python3"
  },
  "language_info": {
   "codemirror_mode": {
    "name": "ipython",
    "version": 3
   },
   "file_extension": ".py",
   "mimetype": "text/x-python",
   "name": "python",
   "nbconvert_exporter": "python",
   "pygments_lexer": "ipython3",
   "version": "3.11.1"
  },
  "vscode": {
   "interpreter": {
    "hash": "c40e2139a64a045dbdf41850800744be0225fd0629e56c49a0b60664ea15301d"
   }
  }
 },
 "nbformat": 4,
 "nbformat_minor": 5
}
